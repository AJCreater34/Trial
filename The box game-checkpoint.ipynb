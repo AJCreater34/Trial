{
 "cells": [
  {
   "cell_type": "code",
   "execution_count": 1,
   "id": "ac17b9e6",
   "metadata": {},
   "outputs": [
    {
     "name": "stdout",
     "output_type": "stream",
     "text": [
      "pygame 2.5.2 (SDL 2.28.3, Python 3.11.4)\n",
      "Hello from the pygame community. https://www.pygame.org/contribute.html\n"
     ]
    }
   ],
   "source": [
    "import pygame"
   ]
  },
  {
   "cell_type": "code",
   "execution_count": 2,
   "id": "eb87fb4c",
   "metadata": {},
   "outputs": [
    {
     "name": "stdout",
     "output_type": "stream",
     "text": [
      "Initializing Box Game\n",
      "Update Display\n",
      "Setup the Clock\n",
      "Starting main Game Playing Loop\n",
      "Received Mouse Event <Event(1025-MouseButtonDown {'pos': (115, 116), 'button': 1, 'touch': False, 'window': None})>\n",
      "Received Mouse Event <Event(1025-MouseButtonDown {'pos': (267, 112), 'button': 1, 'touch': False, 'window': None})>\n",
      "Received Mouse Event <Event(1025-MouseButtonDown {'pos': (223, 198), 'button': 1, 'touch': False, 'window': None})>\n",
      "Received Mouse Event <Event(1025-MouseButtonDown {'pos': (84, 227), 'button': 1, 'touch': False, 'window': None})>\n",
      "Received Mouse Event <Event(1025-MouseButtonDown {'pos': (152, 24), 'button': 1, 'touch': False, 'window': None})>\n",
      "Received Mouse Event <Event(1025-MouseButtonDown {'pos': (276, 165), 'button': 1, 'touch': False, 'window': None})>\n",
      "Received Mouse Event <Event(1025-MouseButtonDown {'pos': (195, 166), 'button': 1, 'touch': False, 'window': None})>\n",
      "Received Mouse Event <Event(1025-MouseButtonDown {'pos': (252, 54), 'button': 1, 'touch': False, 'window': None})>\n",
      "Received Mouse Event <Event(1025-MouseButtonDown {'pos': (344, 130), 'button': 1, 'touch': False, 'window': None})>\n",
      "Received Mouse Event <Event(1025-MouseButtonDown {'pos': (330, 221), 'button': 1, 'touch': False, 'window': None})>\n",
      "Received Mouse Event <Event(1025-MouseButtonDown {'pos': (56, 27), 'button': 1, 'touch': False, 'window': None})>\n",
      "Received Mouse Event <Event(1025-MouseButtonDown {'pos': (239, 92), 'button': 1, 'touch': False, 'window': None})>\n",
      "Received Mouse Event <Event(1025-MouseButtonDown {'pos': (272, 117), 'button': 1, 'touch': False, 'window': None})>\n",
      "Received Mouse Event <Event(1025-MouseButtonDown {'pos': (272, 117), 'button': 1, 'touch': False, 'window': None})>\n",
      "Received Mouse Event <Event(1025-MouseButtonDown {'pos': (272, 117), 'button': 1, 'touch': False, 'window': None})>\n",
      "Received Mouse Event <Event(1025-MouseButtonDown {'pos': (270, 118), 'button': 1, 'touch': False, 'window': None})>\n",
      "Received Mouse Event <Event(1025-MouseButtonDown {'pos': (270, 118), 'button': 1, 'touch': False, 'window': None})>\n",
      "Received Mouse Event <Event(1025-MouseButtonDown {'pos': (270, 118), 'button': 1, 'touch': False, 'window': None})>\n",
      "Received Mouse Event <Event(1025-MouseButtonDown {'pos': (269, 119), 'button': 1, 'touch': False, 'window': None})>\n",
      "Received Mouse Event <Event(1025-MouseButtonDown {'pos': (267, 127), 'button': 1, 'touch': False, 'window': None})>\n",
      "Received Mouse Event <Event(1025-MouseButtonDown {'pos': (266, 131), 'button': 1, 'touch': False, 'window': None})>\n",
      "Received Mouse Event <Event(1025-MouseButtonDown {'pos': (266, 135), 'button': 1, 'touch': False, 'window': None})>\n",
      "Received Mouse Event <Event(1025-MouseButtonDown {'pos': (266, 139), 'button': 1, 'touch': False, 'window': None})>\n",
      "Received Mouse Event <Event(1025-MouseButtonDown {'pos': (73, 104), 'button': 1, 'touch': False, 'window': None})>\n",
      "Received Mouse Event <Event(1025-MouseButtonDown {'pos': (87, 159), 'button': 1, 'touch': False, 'window': None})>\n",
      "Received Mouse Event <Event(1025-MouseButtonDown {'pos': (159, 167), 'button': 1, 'touch': False, 'window': None})>\n",
      "Received Mouse Event <Event(1025-MouseButtonDown {'pos': (108, 174), 'button': 1, 'touch': False, 'window': None})>\n",
      "Received Mouse Event <Event(1025-MouseButtonDown {'pos': (152, 38), 'button': 1, 'touch': False, 'window': None})>\n",
      "Received Quit Event <Event(256-Quit {})>\n",
      "Game Over!\n"
     ]
    },
    {
     "ename": "NameError",
     "evalue": "name '_name_' is not defined",
     "output_type": "error",
     "traceback": [
      "\u001b[1;31m---------------------------------------------------------------------------\u001b[0m",
      "\u001b[1;31mNameError\u001b[0m                                 Traceback (most recent call last)",
      "Cell \u001b[1;32mIn[2], line 32\u001b[0m\n\u001b[0;32m     30\u001b[0m \u001b[38;5;28mprint\u001b[39m (\u001b[38;5;124m'\u001b[39m\u001b[38;5;124mGame Over!\u001b[39m\u001b[38;5;124m'\u001b[39m)\n\u001b[0;32m     31\u001b[0m pygame\u001b[38;5;241m.\u001b[39mquit()\n\u001b[1;32m---> 32\u001b[0m \u001b[38;5;28;01mif\u001b[39;00m _name_ \u001b[38;5;241m==\u001b[39m \u001b[38;5;124m'\u001b[39m\u001b[38;5;124m_main_\u001b[39m\u001b[38;5;124m'\u001b[39m:\n\u001b[0;32m     33\u001b[0m     main()\n",
      "\u001b[1;31mNameError\u001b[0m: name '_name_' is not defined"
     ]
    }
   ],
   "source": [
    "FRAME_REFRESH_RATE = 30\n",
    "BLUE = (0,0,225)\n",
    "BACKGROUND = (255,255,255)\n",
    "WIDTH = 10\n",
    "HEIGHT = 10\n",
    "def main():\n",
    "    print ('Initialising PyGame')\n",
    "    pygame.init()\n",
    "print ('Initializing Box Game')\n",
    "display_surface = pygame.display.set_mode ((400, 300))\n",
    "pygame.display.set_caption('Box Game')\n",
    "print ('Update Display')\n",
    "pygame.display.update()\n",
    "print ('Setup the Clock')\n",
    "clock = pygame.time.Clock()\n",
    "display_surface.fill (BACKGROUND)\n",
    "print ('Starting main Game Playing Loop')\n",
    "running = True\n",
    "while running:\n",
    "    for event in pygame.event.get():\n",
    "        if event.type == pygame.QUIT:\n",
    "            print ('Received Quit Event', event)\n",
    "            running = False\n",
    "        elif event.type == pygame.MOUSEBUTTONDOWN:\n",
    "            print ('Received Mouse Event', event)\n",
    "            x, y = event.pos\n",
    "            pygame.draw.rect(display_surface, BLUE, [x, y, WIDTH, HEIGHT])\n",
    "    pygame.display.update()\n",
    "    clock.tick (FRAME_REFRESH_RATE)\n",
    "print ('Game Over!')\n",
    "pygame.quit()\n",
    "if _name_ == '_main_':\n",
    "    main()"
   ]
  }
 ],
 "metadata": {
  "kernelspec": {
   "display_name": "Python 3 (ipykernel)",
   "language": "python",
   "name": "python3"
  },
  "language_info": {
   "codemirror_mode": {
    "name": "ipython",
    "version": 3
   },
   "file_extension": ".py",
   "mimetype": "text/x-python",
   "name": "python",
   "nbconvert_exporter": "python",
   "pygments_lexer": "ipython3",
   "version": "3.11.4"
  }
 },
 "nbformat": 4,
 "nbformat_minor": 5
}
